{
  "nbformat": 4,
  "nbformat_minor": 0,
  "metadata": {
    "colab": {
      "provenance": [],
      "authorship_tag": "ABX9TyO62RCVXMrU/kCYp9d/tsfd",
      "include_colab_link": true
    },
    "kernelspec": {
      "name": "python3",
      "display_name": "Python 3"
    },
    "language_info": {
      "name": "python"
    }
  },
  "cells": [
    {
      "cell_type": "markdown",
      "metadata": {
        "id": "view-in-github",
        "colab_type": "text"
      },
      "source": [
        "<a href=\"https://colab.research.google.com/github/saikiran-18/Transaction-Fraud-Detection/blob/main/Transaction_fraud_detection_supervised_learning.ipynb\" target=\"_parent\"><img src=\"https://colab.research.google.com/assets/colab-badge.svg\" alt=\"Open In Colab\"/></a>"
      ]
    },
    {
      "cell_type": "code",
      "source": [
        "import pandas as pd\n",
        "from sklearn.preprocessing import StandardScaler\n",
        "from sklearn.model_selection import train_test_split\n",
        "from sklearn.ensemble import RandomForestClassifier\n",
        "from sklearn.metrics import accuracy_score, precision_score, recall_score, f1_score, confusion_matrix\n",
        "import joblib\n",
        "import matplotlib.pyplot as plt\n",
        "\n",
        "# --- 1. Load dataset ---\n",
        "df = pd.read_csv(\"synthetic_fraud_dataset.csv\")\n",
        "\n",
        "# --- 2. Target column ---\n",
        "y = df[\"Fraud_Label\"]\n",
        "\n",
        "# --- 3. Select only 4 user-knowable features ---\n",
        "selected_features = [\n",
        "    \"Transaction_Amount\",\n",
        "    \"Daily_Transaction_Count\",\n",
        "    \"Account_Balance\",\n",
        "    \"Transaction_Distance\"\n",
        "]\n",
        "\n",
        "X = df[selected_features]\n",
        "\n",
        "# --- 4. Scale features ---\n",
        "scaler = StandardScaler()\n",
        "X_scaled = scaler.fit_transform(X)\n",
        "\n",
        "# --- 5. Train/Test Split ---\n",
        "X_train, X_test, y_train, y_test = train_test_split(\n",
        "    X_scaled, y, test_size=0.3, random_state=42, stratify=y\n",
        ")\n",
        "\n",
        "# --- 6. Train RandomForest with class balancing ---\n",
        "rf_model = RandomForestClassifier(\n",
        "    n_estimators=100,\n",
        "    random_state=42,\n",
        "    class_weight=\"balanced\"\n",
        ")\n",
        "rf_model.fit(X_train, y_train)\n",
        "\n",
        "# --- 7. Evaluate model ---\n",
        "y_pred = rf_model.predict(X_test)\n",
        "acc = accuracy_score(y_test, y_pred)\n",
        "prec = precision_score(y_test, y_pred)\n",
        "rec = recall_score(y_test, y_pred)\n",
        "f1 = f1_score(y_test, y_pred)\n",
        "cm = confusion_matrix(y_test, y_pred)\n",
        "\n",
        "print(\"🔹 Model Evaluation on Test Set:\")\n",
        "print(f\"Accuracy: {acc:.4f}\")\n",
        "print(f\"Precision: {prec:.4f}\")\n",
        "print(f\"Recall: {rec:.4f}\")\n",
        "print(f\"F1-score: {f1:.4f}\")\n",
        "print(\"Confusion Matrix:\\n\", cm)\n",
        "\n",
        "# --- 8. Feature Importance ---\n",
        "feat_importances = pd.Series(rf_model.feature_importances_, index=selected_features).sort_values(ascending=False)\n",
        "print(\"\\n🔹 Feature Importances:\\n\", feat_importances)\n",
        "\n",
        "plt.figure(figsize=(6,4))\n",
        "feat_importances.plot(kind=\"barh\")\n",
        "plt.title(\"Feature Importances (4-Feature Fraud Detection)\")\n",
        "plt.xlabel(\"Importance Score\")\n",
        "plt.ylabel(\"Feature\")\n",
        "plt.show()\n",
        "\n",
        "# --- 9. Save model + scaler + features for Streamlit ---\n",
        "joblib.dump(rf_model, \"fraud_model.pkl\")\n",
        "joblib.dump(scaler, \"scaler.pkl\")\n",
        "joblib.dump(selected_features, \"features.pkl\")\n"
      ],
      "metadata": {
        "colab": {
          "base_uri": "https://localhost:8080/",
          "height": 688
        },
        "id": "km7szhPp3Kuu",
        "outputId": "528fc953-49ec-43a1-9718-87a2f69a44d8"
      },
      "execution_count": 45,
      "outputs": [
        {
          "output_type": "stream",
          "name": "stdout",
          "text": [
            "🔹 Model Evaluation on Test Set:\n",
            "Accuracy: 0.6582\n",
            "Precision: 0.3311\n",
            "Recall: 0.0624\n",
            "F1-score: 0.1051\n",
            "Confusion Matrix:\n",
            " [[9572  608]\n",
            " [4519  301]]\n",
            "\n",
            "🔹 Feature Importances:\n",
            " Transaction_Distance       0.294841\n",
            "Account_Balance            0.294127\n",
            "Transaction_Amount         0.292791\n",
            "Daily_Transaction_Count    0.118241\n",
            "dtype: float64\n"
          ]
        },
        {
          "output_type": "display_data",
          "data": {
            "text/plain": [
              "<Figure size 600x400 with 1 Axes>"
            ],
            "image/png": "[encoded data removed]"
          },
          "metadata": {}
        },
        {
          "output_type": "execute_result",
          "data": {
            "text/plain": [
              "['features.pkl']"
            ]
          },
          "metadata": {},
          "execution_count": 45
        }
      ]
    },
    {
      "cell_type": "code",
      "source": [
        "from sklearn.ensemble import RandomForestRegressor  # <-- import the regressor\n",
        "\n",
        "# Features to predict Risk_Score\n",
        "X_risk = df[[\"Transaction_Amount\",\"Daily_Transaction_Count\",\"Account_Balance\",\"Transaction_Distance\"]]\n",
        "y_risk = df[\"Risk_Score\"]\n",
        "\n",
        "# Train a RandomForest regressor to predict Risk_Score\n",
        "risk_model = RandomForestRegressor(\n",
        "    n_estimators=100,\n",
        "    random_state=42\n",
        ")\n",
        "risk_model.fit(X_risk, y_risk)\n",
        "\n",
        "# Save the Risk_Score predictor\n",
        "import joblib\n",
        "joblib.dump(risk_model, \"risk_model.pkl\")\n",
        "\n",
        "print(\"✅ Risk_Score model trained and saved!\")\n",
        "\n"
      ],
      "metadata": {
        "colab": {
          "base_uri": "https://localhost:8080/"
        },
        "id": "mt9PD5XG5ko8",
        "outputId": "685edc18-f9bd-40e3-8622-5525113dc270"
      },
      "execution_count": 46,
      "outputs": [
        {
          "output_type": "stream",
          "name": "stdout",
          "text": [
            "✅ Risk_Score model trained and saved!\n"
          ]
        }
      ]
    },
    {
      "cell_type": "code",
      "source": [
        "!pip install streamlit pyngrok\n"
      ],
      "metadata": {
        "colab": {
          "base_uri": "https://localhost:8080/"
        },
        "id": "Gv6v4TWuyHsm",
        "outputId": "a51ac650-5020-4cba-8a22-257ffe0d663c"
      },
      "execution_count": 47,
      "outputs": [
        {
          "output_type": "stream",
          "name": "stdout",
          "text": [
            "Requirement already satisfied: streamlit in /usr/local/lib/python3.12/dist-packages (1.49.1)\n",
            "Requirement already satisfied: pyngrok in /usr/local/lib/python3.12/dist-packages (7.3.0)\n",
            "Requirement already satisfied: altair!=5.4.0,!=5.4.1,<6,>=4.0 in /usr/local/lib/python3.12/dist-packages (from streamlit) (5.5.0)\n",
            "Requirement already satisfied: blinker<2,>=1.5.0 in /usr/local/lib/python3.12/dist-packages (from streamlit) (1.9.0)\n",
            "Requirement already satisfied: cachetools<7,>=4.0 in /usr/local/lib/python3.12/dist-packages (from streamlit) (5.5.2)\n",
            "Requirement already satisfied: click<9,>=7.0 in /usr/local/lib/python3.12/dist-packages (from streamlit) (8.2.1)\n",
            "Requirement already satisfied: numpy<3,>=1.23 in /usr/local/lib/python3.12/dist-packages (from streamlit) (2.0.2)\n",
            "Requirement already satisfied: packaging<26,>=20 in /usr/local/lib/python3.12/dist-packages (from streamlit) (25.0)\n",
            "Requirement already satisfied: pandas<3,>=1.4.0 in /usr/local/lib/python3.12/dist-packages (from streamlit) (2.2.2)\n",
            "Requirement already satisfied: pillow<12,>=7.1.0 in /usr/local/lib/python3.12/dist-packages (from streamlit) (11.3.0)\n",
            "Requirement already satisfied: protobuf<7,>=3.20 in /usr/local/lib/python3.12/dist-packages (from streamlit) (5.29.5)\n",
            "Requirement already satisfied: pyarrow>=7.0 in /usr/local/lib/python3.12/dist-packages (from streamlit) (18.1.0)\n",
            "Requirement already satisfied: requests<3,>=2.27 in /usr/local/lib/python3.12/dist-packages (from streamlit) (2.32.4)\n",
            "Requirement already satisfied: tenacity<10,>=8.1.0 in /usr/local/lib/python3.12/dist-packages (from streamlit) (8.5.0)\n",
            "Requirement already satisfied: toml<2,>=0.10.1 in /usr/local/lib/python3.12/dist-packages (from streamlit) (0.10.2)\n",
            "Requirement already satisfied: typing-extensions<5,>=4.4.0 in /usr/local/lib/python3.12/dist-packages (from streamlit) (4.15.0)\n",
            "Requirement already satisfied: watchdog<7,>=2.1.5 in /usr/local/lib/python3.12/dist-packages (from streamlit) (6.0.0)\n",
            "Requirement already satisfied: gitpython!=3.1.19,<4,>=3.0.7 in /usr/local/lib/python3.12/dist-packages (from streamlit) (3.1.45)\n",
            "Requirement already satisfied: pydeck<1,>=0.8.0b4 in /usr/local/lib/python3.12/dist-packages (from streamlit) (0.9.1)\n",
            "Requirement already satisfied: tornado!=6.5.0,<7,>=6.0.3 in /usr/local/lib/python3.12/dist-packages (from streamlit) (6.4.2)\n",
            "Requirement already satisfied: PyYAML>=5.1 in /usr/local/lib/python3.12/dist-packages (from pyngrok) (6.0.2)\n",
            "Requirement already satisfied: jinja2 in /usr/local/lib/python3.12/dist-packages (from altair!=5.4.0,!=5.4.1,<6,>=4.0->streamlit) (3.1.6)\n",
            "Requirement already satisfied: jsonschema>=3.0 in /usr/local/lib/python3.12/dist-packages (from altair!=5.4.0,!=5.4.1,<6,>=4.0->streamlit) (4.25.1)\n",
            "Requirement already satisfied: narwhals>=1.14.2 in /usr/local/lib/python3.12/dist-packages (from altair!=5.4.0,!=5.4.1,<6,>=4.0->streamlit) (2.4.0)\n",
            "Requirement already satisfied: gitdb<5,>=4.0.1 in /usr/local/lib/python3.12/dist-packages (from gitpython!=3.1.19,<4,>=3.0.7->streamlit) (4.0.12)\n",
            "Requirement already satisfied: python-dateutil>=2.8.2 in /usr/local/lib/python3.12/dist-packages (from pandas<3,>=1.4.0->streamlit) (2.9.0.post0)\n",
            "Requirement already satisfied: pytz>=2020.1 in /usr/local/lib/python3.12/dist-packages (from pandas<3,>=1.4.0->streamlit) (2025.2)\n",
            "Requirement already satisfied: tzdata>=2022.7 in /usr/local/lib/python3.12/dist-packages (from pandas<3,>=1.4.0->streamlit) (2025.2)\n",
            "Requirement already satisfied: charset_normalizer<4,>=2 in /usr/local/lib/python3.12/dist-packages (from requests<3,>=2.27->streamlit) (3.4.3)\n",
            "Requirement already satisfied: idna<4,>=2.5 in /usr/local/lib/python3.12/dist-packages (from requests<3,>=2.27->streamlit) (3.10)\n",
            "Requirement already satisfied: urllib3<3,>=1.21.1 in /usr/local/lib/python3.12/dist-packages (from requests<3,>=2.27->streamlit) (2.5.0)\n",
            "Requirement already satisfied: certifi>=2017.4.17 in /usr/local/lib/python3.12/dist-packages (from requests<3,>=2.27->streamlit) (2025.8.3)\n",
            "Requirement already satisfied: smmap<6,>=3.0.1 in /usr/local/lib/python3.12/dist-packages (from gitdb<5,>=4.0.1->gitpython!=3.1.19,<4,>=3.0.7->streamlit) (5.0.2)\n",
            "Requirement already satisfied: MarkupSafe>=2.0 in /usr/local/lib/python3.12/dist-packages (from jinja2->altair!=5.4.0,!=5.4.1,<6,>=4.0->streamlit) (3.0.2)\n",
            "Requirement already satisfied: attrs>=22.2.0 in /usr/local/lib/python3.12/dist-packages (from jsonschema>=3.0->altair!=5.4.0,!=5.4.1,<6,>=4.0->streamlit) (25.3.0)\n",
            "Requirement already satisfied: jsonschema-specifications>=2023.03.6 in /usr/local/lib/python3.12/dist-packages (from jsonschema>=3.0->altair!=5.4.0,!=5.4.1,<6,>=4.0->streamlit) (2025.9.1)\n",
            "Requirement already satisfied: referencing>=0.28.4 in /usr/local/lib/python3.12/dist-packages (from jsonschema>=3.0->altair!=5.4.0,!=5.4.1,<6,>=4.0->streamlit) (0.36.2)\n",
            "Requirement already satisfied: rpds-py>=0.7.1 in /usr/local/lib/python3.12/dist-packages (from jsonschema>=3.0->altair!=5.4.0,!=5.4.1,<6,>=4.0->streamlit) (0.27.1)\n",
            "Requirement already satisfied: six>=1.5 in /usr/local/lib/python3.12/dist-packages (from python-dateutil>=2.8.2->pandas<3,>=1.4.0->streamlit) (1.17.0)\n"
          ]
        }
      ]
    },
    {
      "cell_type": "code",
      "source": [
        "%%writefile app.py\n",
        "import streamlit as st\n",
        "import joblib\n",
        "import pandas as pd\n",
        "import numpy as np\n",
        "\n",
        "# --- Load models + features ---\n",
        "rf_model = joblib.load(\"fraud_model.pkl\")       # Main fraud classifier\n",
        "scaler = joblib.load(\"scaler.pkl\")             # Scaler for features\n",
        "all_features = joblib.load(\"features.pkl\")     # Features used in training\n",
        "risk_model = joblib.load(\"risk_model.pkl\")     # Model to predict Risk_Score\n",
        "\n",
        "# Observable features only\n",
        "selected_features = [\n",
        "    \"Transaction_Amount\",\n",
        "    \"Daily_Transaction_Count\",\n",
        "    \"Account_Balance\",\n",
        "    \"Transaction_Distance\"\n",
        "]\n",
        "\n",
        "st.set_page_config(page_title=\"Fraud Detection App\", layout=\"centered\")\n",
        "st.title(\"🔍 Fraud Detection System\")\n",
        "st.write(\"Enter transaction details below to check if it's Fraud or Not Fraud.\")\n",
        "\n",
        "# --- Collect user inputs with min/max limits ---\n",
        "user_input = {}\n",
        "\n",
        "user_input[\"Transaction_Amount\"] = st.number_input(\n",
        "    \"Transaction_Amount\",\n",
        "    min_value=0.0,\n",
        "    max_value=100000.0,  # adjust based on dataset\n",
        "    value=100.0\n",
        ")\n",
        "\n",
        "user_input[\"Daily_Transaction_Count\"] = st.number_input(\n",
        "    \"Daily_Transaction_Count\",\n",
        "    min_value=0,\n",
        "    max_value=50,         # adjust based on dataset\n",
        "    value=1\n",
        ")\n",
        "\n",
        "user_input[\"Account_Balance\"] = st.number_input(\n",
        "    \"Account_Balance\",\n",
        "    min_value=0.0,\n",
        "    max_value=1000000.0,  # adjust based on dataset\n",
        "    value=5000.0\n",
        ")\n",
        "\n",
        "user_input[\"Transaction_Distance\"] = st.number_input(\n",
        "    \"Transaction_Distance\",\n",
        "    min_value=0.0,\n",
        "    max_value=10000.0,    # adjust based on dataset\n",
        "    value=5.0\n",
        ")\n",
        "\n",
        "# --- Compute Risk_Score automatically ---\n",
        "input_df_risk = pd.DataFrame([user_input])\n",
        "risk_score = risk_model.predict(input_df_risk)[0]\n",
        "user_input[\"Risk_Score\"] = risk_score\n",
        "\n",
        "# --- Convert to DataFrame and align with training features ---\n",
        "input_df = pd.DataFrame([user_input]).reindex(columns=all_features, fill_value=0)\n",
        "\n",
        "# --- Scale input ---\n",
        "input_scaled = scaler.transform(input_df)\n",
        "\n",
        "# --- Predict probabilities ---\n",
        "probs = rf_model.predict_proba(input_scaled)[0]\n",
        "fraud_prob = probs[1]\n",
        "\n",
        "# Threshold for classification\n",
        "threshold = 0.3\n",
        "pred_class = 1 if fraud_prob > threshold else 0\n",
        "prediction_label = \"🚨 Fraud\" if pred_class == 1 else \"✅ Not Fraud\"\n",
        "\n",
        "# --- Display results ---\n",
        "st.subheader(\"Prediction Result:\")\n",
        "st.write(prediction_label)\n",
        "st.write(f\"Probabilities → Not Fraud: {probs[0]:.4f}, Fraud: {probs[1]:.4f}\")\n",
        "st.write(f\"Calculated Risk_Score: {risk_score:.4f}\")\n",
        "\n",
        "\n",
        "\n"
      ],
      "metadata": {
        "colab": {
          "base_uri": "https://localhost:8080/"
        },
        "id": "x6hq3lfP3dZs",
        "outputId": "c89adebf-668d-4bee-e120-bfc9a814b6ce"
      },
      "execution_count": 52,
      "outputs": [
        {
          "output_type": "stream",
          "name": "stdout",
          "text": [
            "Overwriting app.py\n"
          ]
        }
      ]
    },
    {
      "cell_type": "code",
      "source": [
        "from pyngrok import ngrok\n",
        "from google.colab import userdata\n",
        "\n",
        "# Get the authtoken from Colab secrets\n",
        "NGROK_AUTH_TOKEN = userdata.get('NGROK_AUTH_TOKEN')\n",
        "\n",
        "# Authenticate ngrok\n",
        "ngrok.set_auth_token(NGROK_AUTH_TOKEN)"
      ],
      "metadata": {
        "id": "LZrxXxWZyrql"
      },
      "execution_count": 49,
      "outputs": []
    },
    {
      "cell_type": "code",
      "source": [
        "from pyngrok import ngrok\n",
        "ngrok.kill()\n"
      ],
      "metadata": {
        "id": "IHEsu14Iz7NV"
      },
      "execution_count": 50,
      "outputs": []
    },
    {
      "cell_type": "code",
      "source": [
        "!streamlit run app.py --server.port 8501 &>/dev/null&\n",
        "public_url = ngrok.connect(8501)\n",
        "print(\"🌍 Your Streamlit app is live at:\", public_url)\n"
      ],
      "metadata": {
        "colab": {
          "base_uri": "https://localhost:8080/"
        },
        "id": "sv8J87akz-R0",
        "outputId": "7e9db989-c83d-4106-e0c2-0082ea0b2e12"
      },
      "execution_count": 53,
      "outputs": [
        {
          "output_type": "stream",
          "name": "stdout",
          "text": [
            "🌍 Your Streamlit app is live at: NgrokTunnel: \"https://8b55b54d249e.ngrok-free.app\" -> \"http://localhost:8501\"\n"
          ]
        }
      ]
    }
  ]
}